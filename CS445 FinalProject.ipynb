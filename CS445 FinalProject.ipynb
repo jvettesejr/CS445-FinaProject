{
 "cells": [
  {
   "cell_type": "code",
   "execution_count": null,
   "id": "fceb5e7e",
   "metadata": {},
   "outputs": [],
   "source": [
    "#imports\n",
    "import cv2\n",
    "import numpy as np"
   ]
  },
  {
   "cell_type": "code",
   "execution_count": null,
   "id": "adb85662",
   "metadata": {},
   "outputs": [],
   "source": [
    "#load in the videos"
   ]
  },
  {
   "cell_type": "code",
   "execution_count": 2,
   "id": "7c47e254",
   "metadata": {},
   "outputs": [],
   "source": [
    "# Function that is able to detect face of frame in video"
   ]
  },
  {
   "cell_type": "code",
   "execution_count": 3,
   "id": "7f3ef4f3",
   "metadata": {},
   "outputs": [],
   "source": [
    "# Detect Speed of face in 2D video"
   ]
  },
  {
   "cell_type": "code",
   "execution_count": null,
   "id": "63ef57f1",
   "metadata": {},
   "outputs": [],
   "source": [
    "# Detect speed of face using depth data\n",
    "# This will be tied to the distance of nose"
   ]
  }
 ],
 "metadata": {
  "kernelspec": {
   "display_name": "Python 3 (ipykernel)",
   "language": "python",
   "name": "python3"
  },
  "language_info": {
   "codemirror_mode": {
    "name": "ipython",
    "version": 3
   },
   "file_extension": ".py",
   "mimetype": "text/x-python",
   "name": "python",
   "nbconvert_exporter": "python",
   "pygments_lexer": "ipython3",
   "version": "3.10.2"
  }
 },
 "nbformat": 4,
 "nbformat_minor": 5
}
