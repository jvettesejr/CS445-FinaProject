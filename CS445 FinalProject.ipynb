{
 "cells": [
  {
   "cell_type": "code",
   "execution_count": 1,
   "id": "fceb5e7e",
   "metadata": {},
   "outputs": [],
   "source": [
    "#imports\n",
    "import cv2\n",
    "import numpy as np"
   ]
  },
  {
   "cell_type": "code",
   "execution_count": 2,
   "id": "7f3ef4f3",
   "metadata": {},
   "outputs": [],
   "source": [
    "# Detect Speed of face in 2D video\n",
    "\n",
    "def calcSpeed2D(prev_faces, faces, num_points, frame):\n",
    "\n",
    "    '''\n",
    "    This function calculates a rough equivalent of the instantaneous 2D speed of the detected faces in a video using the velocity \n",
    "    formula. For each face, a number of equidistant points (chosen by the user, minimum of 4), are sampled from the bounding box\n",
    "    and the velocity is calculated from the number of pixels traveled (on average?) by each point of interest. \n",
    "\n",
    "    Inputs:\n",
    "        - prev_faces: list of bounding box coordinates (x, y, w, h) of faces in the most recent previous sampled state\n",
    "        - faces: list of bounding box coordinates (x, y, w, h) of faces in the current sampled state\n",
    "        - num_points (int): number of points on bounding box to be selected (minimum of 4, must be a multiple of 4)\n",
    "\n",
    "    Outputs:\n",
    "        - None: simply displays the velocity under the bounding box of the face\n",
    "    '''\n",
    "\n",
    "    assert (num_points >= 4) and (num_points % 4 == 0), \"Number of points sampled must be a positive, non-zero multiple of 4.\"\n",
    "\n",
    "\n",
    "    for (xp, yp, wp, hp), (xc, yc, wc, hc) in zip(prev_faces, faces):\n",
    "\n",
    "        cv2.rectangle(frame, (xc, yc), (xc+wc, yc+hc), (255, 0, 0), 2)\n",
    "\n",
    "        # sample points of interest on the bounding boxes\n",
    "\n",
    "        pPois = []\n",
    "        cPois = []\n",
    "\n",
    "        bisectors = num_points // 4\n",
    "        for i in np.arange(bisectors):\n",
    "            for j in np.arange(bisectors):\n",
    "                if (i != 0 or i != bisectors-1) or (j != 0 or j != bisectors - 1): # if point would not be on edge of bounding box\n",
    "                    continue\n",
    "                else:\n",
    "                    pPois.append((xp + i*wp/bisectors, yp + j*hp/bisectors))\n",
    "                    cPois.append((xc + i*wc/bisectors, yc + j*hc/bisectors))\n",
    "            \n",
    "        # calculate the differences between the previous and current points of interest\n",
    "        diff = np.subtract(pPois, cPois)\n",
    "\n",
    "        # compute the average difference of each point\n",
    "        avg_diff = np.mean(diff)\n",
    "\n",
    "        # calculate the speed based on the difference (using 30 fps as the framerate)\n",
    "        velo = np.linalg.norm(avg_diff) * 30\n",
    "\n",
    "        # create the output string to go under the bounding box on the video\n",
    "        out_str = 'Velocity: ' + str(velo) + ' pixels/sec'\n",
    "\n",
    "        cv2.putText(frame, out_str, (xc, yc + hc + 20), cv2.FONT_HERSHEY_PLAIN, 1.0, (255, 0, 0), 1)"
   ]
  },
  {
   "cell_type": "code",
   "execution_count": 4,
   "id": "adb85662",
   "metadata": {},
   "outputs": [],
   "source": [
    "#load in the videos\n",
    "cap = cv2.VideoCapture('./test-0-color.mp4')\n",
    "\n",
    "face_cascade = cv2.CascadeClassifier('haarcascade_frontalface_default.xml')\n",
    "\n",
    "fCount = 0\n",
    "\n",
    "prev_faces = []\n",
    "\n",
    "if (cap.isOpened()== False):\n",
    "    print(\"error opening\")\n",
    "    \n",
    "while(cap.isOpened()):\n",
    "    ret, frame = cap.read()\n",
    "    \n",
    "    if ret:\n",
    "\n",
    "        faces = face_cascade.detectMultiScale(frame, 1.1, 4)\n",
    "        \n",
    "        calcSpeed2D(prev_faces, faces, 4, frame)          \n",
    "        \n",
    "        cv2.imshow('frame', frame)\n",
    "\n",
    "        prev_faces = faces\n",
    "        fCount += 1\n",
    "        \n",
    "        if cv2.waitKey(25) & 0xFF == ord('q'):\n",
    "            break\n",
    "    else:\n",
    "        break\n",
    "cap.release()\n",
    "cv2.destroyAllWindows()\n"
   ]
  },
  {
   "cell_type": "code",
   "execution_count": 2,
   "id": "7c47e254",
   "metadata": {},
   "outputs": [],
   "source": [
    "# Function that is able to detect face of frame in video"
   ]
  },
  {
   "cell_type": "code",
   "execution_count": null,
   "id": "63ef57f1",
   "metadata": {},
   "outputs": [],
   "source": [
    "# Detect speed of face using depth data\n",
    "# This will be tied to the distance of nose"
   ]
  }
 ],
 "metadata": {
  "kernelspec": {
   "display_name": "Python 3 (ipykernel)",
   "language": "python",
   "name": "python3"
  },
  "language_info": {
   "codemirror_mode": {
    "name": "ipython",
    "version": 3
   },
   "file_extension": ".py",
   "mimetype": "text/x-python",
   "name": "python",
   "nbconvert_exporter": "python",
   "pygments_lexer": "ipython3",
   "version": "3.7.12"
  }
 },
 "nbformat": 4,
 "nbformat_minor": 5
}
