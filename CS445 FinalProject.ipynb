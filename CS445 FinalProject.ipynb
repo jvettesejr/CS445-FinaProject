{
 "cells": [
  {
   "cell_type": "code",
   "execution_count": 2,
   "id": "fceb5e7e",
   "metadata": {},
   "outputs": [],
   "source": [
    "#imports\n",
    "import cv2\n",
    "import numpy as np"
   ]
  },
  {
   "cell_type": "code",
   "execution_count": 9,
   "id": "adb85662",
   "metadata": {},
   "outputs": [],
   "source": [
    "#load in the videos\n",
    "cap = cv2.VideoCapture('../test-0-color.mp4')\n",
    "\n",
    "face_cascade = cv2.CascadeClassifier('haarcascade_frontalface_default.xml')\n",
    "\n",
    "if (cap.isOpened()== False):\n",
    "    print(\"error opening\")\n",
    "    \n",
    "while(cap.isOpened()):\n",
    "    ret, frame = cap.read()\n",
    "    \n",
    "    if ret:\n",
    "        faces = face_cascade.detectMultiScale(frame, 1.1, 4)\n",
    "        for (x, y, w, h) in faces: \n",
    "          cv2.rectangle(frame, (x, y), (x+w, y+h), (255, 0, 0), 2)\n",
    "        \n",
    "        cv2.imshow('frame', frame)\n",
    "        \n",
    "        if cv2.waitKey(25) & 0xFF == ord('q'):\n",
    "            break\n",
    "    else:\n",
    "        break\n",
    "cap.release()\n",
    "cv2.destroyAllWindows()\n"
   ]
  },
  {
   "cell_type": "code",
   "execution_count": 2,
   "id": "7c47e254",
   "metadata": {},
   "outputs": [],
   "source": [
    "# Function that is able to detect face of frame in video"
   ]
  },
  {
   "cell_type": "code",
   "execution_count": 3,
   "id": "7f3ef4f3",
   "metadata": {},
   "outputs": [],
   "source": [
    "# Detect Speed of face in 2D video"
   ]
  },
  {
   "cell_type": "code",
   "execution_count": null,
   "id": "63ef57f1",
   "metadata": {},
   "outputs": [],
   "source": [
    "# Detect speed of face using depth data\n",
    "# This will be tied to the distance of nose"
   ]
  }
 ],
 "metadata": {
  "kernelspec": {
   "display_name": "Python 3 (ipykernel)",
   "language": "python",
   "name": "python3"
  },
  "language_info": {
   "codemirror_mode": {
    "name": "ipython",
    "version": 3
   },
   "file_extension": ".py",
   "mimetype": "text/x-python",
   "name": "python",
   "nbconvert_exporter": "python",
   "pygments_lexer": "ipython3",
   "version": "3.10.2"
  }
 },
 "nbformat": 4,
 "nbformat_minor": 5
}
